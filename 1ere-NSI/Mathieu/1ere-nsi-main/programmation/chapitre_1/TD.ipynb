{
 "cells": [
  {
   "cell_type": "markdown",
   "metadata": {},
   "source": [
    "# TD - Premier pas en Python\n",
    "\n",
    "## 1. La console\n",
    "\n",
    "La __console__ est un endroit où l'on peut écrire du code en Python.\n",
    "\n",
    "Le code sera exécuté immédiatement dès validation de la ligne, c'est-à-dire dès que vous appuyer sur le bouton Run.\n",
    "\n",
    "### 1.1. À Faire\n",
    "\n",
    "1. Éxécuter le code suivant (_sans les >>>_) :\n",
    "\n",
    "```python\n",
    ">>> 5 + 2\n",
    "```"
   ]
  },
  {
   "cell_type": "code",
   "execution_count": null,
   "metadata": {},
   "outputs": [],
   "source": []
  },
  {
   "cell_type": "markdown",
   "metadata": {},
   "source": [
    "2. Quel est le résultat obtenu ?"
   ]
  },
  {
   "cell_type": "markdown",
   "metadata": {},
   "source": [
    "#### Bilan 1.1\n",
    "\n",
    "- A travers ce premier exemple, on constate que Python sait faire des calculs !!\n",
    "- Lorsque l'on appuie sur le bouton Run, python lit le code 5 + 2, calcule l'opération associée et restitue le résultat."
   ]
  },
  {
   "cell_type": "markdown",
   "metadata": {},
   "source": [
    "### 1.2. À Faire\n",
    "\n",
    "1. Écrire et exécuter successivement les instructions suivantes (_sans les >>> et ???_) `\n",
    "\n",
    "```python\n",
    ">>> 5 - 2\n",
    "???\n",
    ">>> 5 * 2\n",
    "???\n",
    ">>> 5 / 2\n",
    "???\n",
    ">>> 5 // 2\n",
    "???\n",
    ">>> 5 % 2\n",
    "???\n",
    ">>> 5 ** 2\n",
    "???\n",
    "```"
   ]
  },
  {
   "cell_type": "markdown",
   "metadata": {},
   "source": [
    "2. Quels sont les résultats obtenus ? Compléter le tableau suivant en décrivant ce que fait l'opérateur de l'instruction."
   ]
  },
  {
   "cell_type": "markdown",
   "metadata": {},
   "source": [
    "| Opérateur | Description |\n",
    "| :--: | :-- |\n",
    "| - | | \n",
    "| * | |\n",
    "| / | |\n",
    "| // | |\n",
    "| % | |\n",
    "| * | |"
   ]
  },
  {
   "cell_type": "markdown",
   "metadata": {},
   "source": [
    "#### Bilan 1.2\n",
    "\n",
    "- Python permet l'utilisation des opérateurs arithmétiques usuelles $+, -, *, /$ sur les entiers,\n",
    "- Python permet l'utilisation d'opérateurs arithmétiques avec une syntaxe spécifique comme $//, \\%, **$ "
   ]
  },
  {
   "cell_type": "markdown",
   "metadata": {},
   "source": [
    "### 1.3. À Faire\n",
    "\n",
    "Exécuter le code suivant. Que constatez-vous ?\n",
    "\n",
    "```python\n",
    ">>> # 3 + 2\n",
    "???\n",
    "```"
   ]
  },
  {
   "cell_type": "code",
   "execution_count": null,
   "metadata": {},
   "outputs": [],
   "source": []
  },
  {
   "cell_type": "markdown",
   "metadata": {},
   "source": [
    "### 1.4. À Faire\n",
    "\n",
    "1. En prenant votre âge à votre prochaine date d'anniversaire (en nombre d'années), écrire une instruction qui calcule le nombre de jours équivalents (on considère qu'une année correspond à 365 jours)"
   ]
  },
  {
   "cell_type": "code",
   "execution_count": null,
   "metadata": {},
   "outputs": [],
   "source": []
  },
  {
   "cell_type": "markdown",
   "metadata": {},
   "source": [
    "2. Sachant qu'à mon prochain anniversaire j'aurai 9490 jours, écrire une instruction qui calcule mon âge, en nombre d'années :"
   ]
  },
  {
   "cell_type": "code",
   "execution_count": null,
   "metadata": {},
   "outputs": [],
   "source": []
  },
  {
   "cell_type": "markdown",
   "metadata": {},
   "source": [
    "3. Sachant que mon logement se situe au 256 de la rue (dont je tairais le nom pour ne pas être localisé ;-)) et que toutes les maisons font 12 mètres et demi de longueur, à quelle distance se situe ma maison par rapport au début de la rue ?"
   ]
  },
  {
   "cell_type": "code",
   "execution_count": null,
   "metadata": {},
   "outputs": [],
   "source": []
  },
  {
   "cell_type": "markdown",
   "metadata": {},
   "source": [
    "#### Bilan 1.4\n",
    "\n",
    "- Outre des entiers, Python permet d'utiliser des nombres décimaux en utilisant le symbole \".\" pour séparer la partie entière et la partie décimale."
   ]
  },
  {
   "cell_type": "markdown",
   "metadata": {},
   "source": [
    "## 2. Les variables\n",
    "\n",
    "En informatique, il est indispensable de conserver des informations de natures diverses. Par exemple, votre smartphone enregistre dans sa mémoire votre numéro de téléphone, les numéros de téléphones de vos contacts, vos messages (SMS), vos photos, vos applications, etc. Chacune de ces informations est stockée à un endroit précis dans la mémoire dans ce qu’on appelle une variable.\n",
    "\n",
    "### 2.1. Définition\n",
    "\n",
    "> Une __variable__ est un __espace de stockage__ de la mémoire (une case mémoire). Chaque variable est caractérisée par son __nom__, son __type__ et sa __valeur__.\n",
    "\n",
    "## 3. Valeur des variables\n",
    "\n",
    "### 3.1. Affecter une valeur à une variable\n",
    "\n",
    "#### 3.1.1. À Faire\n",
    "\n",
    "Copier et exécuter les instructions suivantes\n",
    "\n",
    "```python\n",
    ">>> a = 5\n",
    ">>> b = 2\n",
    ">>> a + b\n",
    "???\n",
    "```"
   ]
  },
  {
   "cell_type": "code",
   "execution_count": null,
   "metadata": {},
   "outputs": [],
   "source": []
  },
  {
   "cell_type": "markdown",
   "metadata": {},
   "source": [
    "#### Bilan 3.1.1\n",
    "\n",
    "1. La syntaxe pour déclarer et affecter une valeur a une variable est `nom_de_la_variable = valeur`\n",
    "2. Pour les instructions 1 et 2, Le signe `=` indique que la valeur 5 est affectée à la variable `a` et 2 à la variable `b`.\n",
    "3. Lorsque Python interprète l'instruction 3, il lit les valeurs associées aux variables et effectue l'opération."
   ]
  },
  {
   "cell_type": "markdown",
   "metadata": {},
   "source": [
    "## 4. Nom des variables\n",
    "\n",
    "Chaque variable possède un nom qui permet d’identifier l’emplacement mémoire correspondant.\n",
    "\n",
    "Dans le langage Python, il y a des règles à respecter pour nommmer les variables. Voici celles qui vous concernent :\n",
    "\n",
    "- __Règle 1__ : un nom ne peut contenir que des lettres __en minuscule__ (a-z), des chiffres (0 - 9) et le caractère _ (underscore).\n",
    "- __Règle 2__ : un nom ne peut pas commencer par un chiffre.\n",
    "- __Règle 3__ : les noms sont sensibles à la casse, cela signifie qu’il y a une distinction entre les minuscules et les majuscules : la variable nommée `nsi` est différente de la variable `Nsi`.\n",
    "- __Règle 4__ : il est préférable de toujours choisir un nom de variable représentatif : par exemple, si vous voulez stocker le nom d’une personne dans une variable, il est préférable de l’appeler nom plutôt que x.\n",
    "- __Règle 5__ : il est préférable de ne pas utiliser de caractères accentués dans le nom d’une variable (nous n’entrerons pas dans le pourquoi du comment)."
   ]
  },
  {
   "cell_type": "markdown",
   "metadata": {},
   "source": [
    "### 4.1. À Faire\n",
    "\n",
    "1. Quels sont les noms de variables incorrects parmi ceux proposés ? Vous indiquerez pourquoi.\n",
    "\n",
    "| Noms de variable | Correct ou Incorrect | Pourquoi (si Incorrect) |\n",
    "| :--:| :--: | :-- | \n",
    "| `prix achat` | | |\n",
    "| `prix_achat` | | |\n",
    "| `note` | | | \n",
    "| `2ndeG` | | |\n",
    "| `SecondeG` | | | \n",
    "| `Seconde:G`| | |\n",
    "| `dix-huit` | | |"
   ]
  },
  {
   "cell_type": "markdown",
   "metadata": {},
   "source": [
    "2. Proposez un nom de variable permettant de stocker :\n",
    "\n",
    "| Variable | Nom de variable |\n",
    "| :-- | :--: |\n",
    "| le nombre de personnes aux yeux bleus de Premiere G | |\n",
    "| le tarif d’un repas au self | |\n",
    "| l’aire d’un triangle (il n’y a qu’une seule figure) | |\n",
    "| la note à un devoir d’anglais | |"
   ]
  },
  {
   "cell_type": "markdown",
   "metadata": {},
   "source": [
    "## 5. Type des variables\n",
    "\n",
    "Dans les travaux à faire précédent, nous avons manipulé essentiellement des entiers.\n",
    "\n",
    "Python gère différents types de variables. \n",
    "\n",
    "L'objet de cette section est d'expliciter la notion de type et les opérations associées :\n",
    "\n",
    "- le type __entier__ : il désigne les entiers relatifs (positifs ou négatifs). En Python on parle du type `int` (pour integer qui signifie « entier » en anglais) ;\n",
    "- le type __flottant__ : il désigne les nombres décimaux (à virgule). En Python on parle du type `float` (pour floating qui signifie « flottant » en anglais)\n",
    "- le type __chaîne de caractères__ : il désigne toute suite ordonnée de caractères. En Python on parle du type `str` (pour string qui signifie « chaîne » en anglais).\n",
    "\n",
    "### 5.1. À Faire\n",
    "\n",
    "Indiquez le type des variables permettant de stocker (sur votre smartphone) les informations suivantes :\n",
    "\n",
    "| Variable | Type identifié |\n",
    "| :--: | :-- |\n",
    "| le nom d’un contact | |\n",
    "| le numéro de téléphone d’un contact | |\n",
    "| un SMS | |\n",
    "| l’heure du réveil | |\n",
    "| le code de votre partage de connexion Wi-Fi | |\n",
    "| le pourcentage affiché de batterie restante | |\n",
    "| les notes aux deux derniers devoirs de Mathématiques de l'année dernière | |"
   ]
  },
  {
   "cell_type": "markdown",
   "metadata": {},
   "source": [
    "## 5.2. Type entier (int)\n",
    "\n",
    "Pour affecter (on dit aussi assigner) la valeur 17 à la variable nommée `age`\n",
    "\n",
    "```python\n",
    ">>> age = 17\n",
    "```\n",
    "\n",
    "La fonction `print` affiche la valeur de la variable :\n",
    "\n",
    "```python\n",
    ">>> print(age)\n",
    "17\n",
    "```\n",
    "\n",
    "La fonction `type` renvoie le type de la variable :\n",
    "\n",
    "```python\n",
    ">>> type (age)\n",
    "<type 'int'>\n",
    "```\n"
   ]
  },
  {
   "cell_type": "markdown",
   "metadata": {},
   "source": [
    "## 5.3. Type flottant (float)\n",
    "\n",
    "Pour affecter (on dit aussi assigner) la valeur 1,70 à la variable nommée `taille`\n",
    "\n",
    "```python\n",
    ">>> taille = 1.7\n",
    "```\n",
    "\n",
    "La fonction `print` affiche la valeur de la variable :\n",
    "\n",
    "```python\n",
    ">>> print(taille)\n",
    "1.7\n",
    "```\n",
    "\n",
    "La fonction `type` renvoie le type de la variable :\n",
    "\n",
    "```python\n",
    ">>> type (taille)\n",
    "<type 'float'>\n",
    "```\n",
    "La notation scientifique est acceptée :\n",
    "```python\n",
    ">>> taille = 1.7e2 #taille en cm où 1m = 100cm = 10**2cm\n",
    ">>> print (taille)\n",
    "170.0\n",
    "```"
   ]
  },
  {
   "cell_type": "markdown",
   "metadata": {},
   "source": [
    "## 5.4. Type chaine de caractères (str)\n",
    "\n",
    "Pour affecter (on dit aussi assigner) la valeur `lundi` à la variable nommée `jour`\n",
    "\n",
    "```python\n",
    ">>> jour = 'lundi' # autre possibilité jour = \"lundi\"\n",
    "```\n",
    "\n",
    "La valeur doit être entre guillemet simple (autrement dit côte) ou guillemet double.\n",
    "\n",
    "La fonction `print` affiche la valeur de la variable :\n",
    "\n",
    "```python\n",
    ">>> print(jour)\n",
    "lundi\n",
    "```\n",
    "\n",
    "```python\n",
    ">>> mois = \"septembre\"\n",
    ">>> print (jour, mois) # print permet d'afficher plusieurs valeurs à la suite, ne pas oublier la virgule\n",
    "lundi septembre\n",
    "```\n",
    "\n",
    "La fonction `type` renvoie le type de la variable :\n",
    "\n",
    "```python\n",
    ">>> type (jour)\n",
    "<type 'str'>\n",
    "```\n",
    "\n",
    "La fonction `len` renvoie la longueur (length) de la chaîne de caractères :\n",
    "\n",
    "```python\n",
    ">>> print(len(jour))\n",
    "4\n",
    "```"
   ]
  },
  {
   "cell_type": "markdown",
   "metadata": {},
   "source": [
    "### 5.4.1 À Faire\n",
    "\n",
    "Copier et exécuter les instructions suivantes\n",
    "\n",
    "```python\n",
    ">>> a = \"Je suis\"\n",
    ">>> b = \" Yoda \"\n",
    ">>> a + b \n",
    "???\n",
    ">>> b + a\n",
    "???\n",
    "```"
   ]
  },
  {
   "cell_type": "code",
   "execution_count": null,
   "metadata": {},
   "outputs": [],
   "source": []
  },
  {
   "cell_type": "markdown",
   "metadata": {},
   "source": [
    "### Bilan 5.4.1\n",
    "\n",
    "Comme vous le voyez, on peut ajouter deux chaînes : c'est une ___concaténation___, la mise bout à bout de plusieurs chaînes de caractères."
   ]
  },
  {
   "cell_type": "markdown",
   "metadata": {},
   "source": [
    "### 5.4.2 À Faire\n",
    "\n",
    "Copier et exécuter les instructions suivantes\n",
    "\n",
    "```python\n",
    ">>> mot = \"lycée\"\n",
    ">>> print(mot[0])\n",
    "???\n",
    ">>> print(mot[1])\n",
    "???\n",
    ">>> print(mot[1:4])\n",
    "???\n",
    ">>> print(mot[2:])\n",
    "???\n",
    ">>> print(mot[:2])\n",
    "???\n",
    ">>> print(mot[-1])\n",
    "???\n",
    "```"
   ]
  },
  {
   "cell_type": "markdown",
   "metadata": {},
   "source": [
    "### Bilan 5.4.2\n",
    "\n",
    "Selon les résultats obtenus, que permet d'obtenir l'utilisation des crochets sur une variable de type chaine de caractères :\n",
    "\n",
    "- variable[indice] : ???\n",
    "- variable[indice1:indice2] : ???\n",
    "- variable[indice:] : ???\n",
    "- variable[:indice] : ???\n",
    "- variable[-1] : ???\n",
    "\n",
    "Par convention, on appelle _indice_ les valeurs entre crochets."
   ]
  },
  {
   "cell_type": "markdown",
   "metadata": {},
   "source": [
    "## 5.5 Conversion de type\n",
    "\n",
    "Cependant, on ne peut pas ajouter n'importe quoi.\n",
    "\n",
    "Copier et exécuter les instructions suivantes :\n",
    "\n",
    "```python\n",
    ">>> a = 'Je mesure '\n",
    ">>> b = 1.12\n",
    ">>> c = 'm'\n",
    ">>> a + b + c\n",
    "???\n",
    "```"
   ]
  },
  {
   "cell_type": "code",
   "execution_count": null,
   "metadata": {},
   "outputs": [],
   "source": []
  },
  {
   "cell_type": "markdown",
   "metadata": {},
   "source": [
    "Cela ne marche pas car les variables ne sont pas du même *type*. Il faut les convertir en utilisant :\n",
    "\n",
    "- soit la fonction `str(nombre)` qui convertit le nombre en chaîne.\n",
    "- soit la fonction `int(chaîne)` qui convertit, si possible, la chaîne en entier.\n",
    "- soit la fonction `float(chaîne)` qui convertit, si possible ,la chaîne en flottant.\n",
    "\n",
    "```python\n",
    ">>> str(b)\n",
    "???\n",
    ">>> a + str(b) + c\n",
    "???\n",
    ">>> str(b) + c + a\n",
    "???\n",
    "```"
   ]
  },
  {
   "cell_type": "code",
   "execution_count": null,
   "metadata": {},
   "outputs": [],
   "source": []
  },
  {
   "cell_type": "markdown",
   "metadata": {},
   "source": [
    "## 6. Les fonctions mathématiques\n",
    "\n",
    "Pour utiliser les fonctions mathématiques, il faut commencer par importer le module math :\n",
    "\n",
    "```python\n",
    ">>> import math\n",
    "```\n",
    "\n",
    "La fonction `dir` renvoie la liste des fonctions et données d'un module :\n",
    "\n",
    "```python\n",
    ">>> dir(math)\n",
    "['__doc__', '__name__', '__package__', 'acos', 'acosh', 'asin', 'asinh', 'atan',\n",
    "'atan2', 'atanh', 'ceil', 'copysign', 'cos', 'cosh', 'degrees', 'e', 'erf',\n",
    "'erfc', 'exp', 'expm1', 'fabs', 'factorial', 'floor', 'fmod', 'frexp', 'fsum',\n",
    "'gamma', 'hypot', 'isinf', 'isnan', 'ldexp', 'lgamma', 'log', 'log10', 'log1p',\n",
    "'modf', 'pi', 'pow', 'radians', 'sin', 'sinh', 'sqrt', 'tan', 'tanh', 'trunc']\n",
    "```\n",
    "\n",
    "Pour appeler une fonction d'un module, la syntaxe est la suivante : `module.fonction(arguments)`\n",
    "\n",
    "Exemple :\n",
    "\n",
    "```python\n",
    ">>> math.sqrt(9)\n",
    "3.0\n",
    "```\n",
    "\n",
    "La fonction `help` affiche l'aide, c'est-à-dire ce que fait la fonction\n",
    "\n",
    "```python\n",
    ">>> help(sqrt)\n",
    "Help on built-in function sqrt in module math:\n",
    "\n",
    "sqrt(x, /)\n",
    "    Return the square root of x.\n",
    "```"
   ]
  },
  {
   "cell_type": "markdown",
   "metadata": {},
   "source": [
    "## 7. Saisie utilisateur : fonction `input`\n",
    "\n",
    "Copier et exécuter l'instruction suivante :\n",
    "\n",
    "```python\n",
    ">>> input(\"As-tu un message ? \")\n",
    "???\n",
    "```"
   ]
  },
  {
   "cell_type": "code",
   "execution_count": null,
   "metadata": {},
   "outputs": [],
   "source": []
  },
  {
   "cell_type": "markdown",
   "metadata": {},
   "source": [
    "Bilan : La fonction `input` permet d'obtenir une valeur saisie par l'utilisateur.\n",
    "\n",
    "___N.B : La valeur saisie est toujours du <type 'str'>___"
   ]
  },
  {
   "cell_type": "markdown",
   "metadata": {},
   "source": [
    "## 6. Exercices"
   ]
  },
  {
   "cell_type": "markdown",
   "metadata": {},
   "source": [
    "### Exercice 1\n",
    "\n",
    "L’indice de masse corporelle (IMC) est le seul indice validé par l’Organisation mondiale de la santé pour évaluer les éventuels risques pour la santé.\n",
    "\n",
    "Il s'exprime par la formule `IMC = poids (kg) / taille (m²)`\n",
    "\n",
    "Je mesure 170cm pour un poids de 3/4 de quintal. \n",
    "\n",
    "1. Exprimer les différentes données sous forme de variables et l'expression permettant de calculer l'IMC.\n",
    "2. Donner les instructions permettant de donner les types des différentes variables et du résultat obtenu."
   ]
  },
  {
   "cell_type": "code",
   "execution_count": null,
   "metadata": {},
   "outputs": [],
   "source": []
  },
  {
   "cell_type": "markdown",
   "metadata": {},
   "source": [
    "### Exercice 2\n",
    "\n",
    "Afficher la taille en octets et en bits d'un fichier de 536 kio.\n",
    "\n",
    "On donne : \n",
    "\n",
    "- 1 kio (1 kibi octet) = 1024 octets !!!\n",
    "- 1 octet = 8 bits"
   ]
  },
  {
   "cell_type": "code",
   "execution_count": null,
   "metadata": {},
   "outputs": [],
   "source": []
  },
  {
   "cell_type": "markdown",
   "metadata": {},
   "source": [
    "### Exercice 3\n",
    "\n",
    "On considère le programme Python suivant.\n",
    "\n",
    "```python\n",
    "a = 8\n",
    "b = 3\n",
    "a = a - 4\n",
    "b = 2 * b\n",
    "a = a + b\n",
    "print(a)\n",
    "```\n",
    "\n",
    "1. Combien de variables sont utilisées ? Combien de valeurs différentes ont-elles prises au cours de l’exécution du programme ?\n",
    "2. Quelle est la valeur finale de la variable `a` ?\n",
    "3. Il est possible d’afficher plusieurs valeurs avec la fonction `print`. Par exemple, si on veut afficher les valeurs des variables `a` et `b` on écrit simplement `print(a, b)`. Modifiez la dernière ligne du programme et exécutez-le."
   ]
  },
  {
   "cell_type": "code",
   "execution_count": null,
   "metadata": {},
   "outputs": [],
   "source": []
  },
  {
   "cell_type": "markdown",
   "metadata": {},
   "source": [
    "### Exercice 4\n",
    "\n",
    "On considère le programme de calcul suivant.\n",
    "\n",
    "- a prend la valeur 5\n",
    "- Multiplier a par 3\n",
    "- Soustraire 4 au résultat\n",
    "- Elever le résultat au carré\n",
    "- Afficher le résultat\n",
    "\n",
    "Écrire un programme Python permettant de coder ce programme de calcul. Vérifiez ensuite en l'exécutant."
   ]
  },
  {
   "cell_type": "code",
   "execution_count": null,
   "metadata": {},
   "outputs": [],
   "source": []
  },
  {
   "cell_type": "markdown",
   "metadata": {},
   "source": [
    "### Exercice 5\n",
    "\n",
    "Sur un site de vente en ligne, on peut acheter différents articles. Un paquet de farine d'un kg coûte 1,15 € et une boîte de six oeufs coûte 1,50 €.\n",
    "\n",
    "Écrire un programme Python qui utilise deux variables pour stocker le nombre de paquets de farine et de boîtes d'oeufs souhaités puis, qui calcule et affiche le prix total à payer pour la commande."
   ]
  },
  {
   "cell_type": "code",
   "execution_count": null,
   "metadata": {},
   "outputs": [],
   "source": []
  },
  {
   "cell_type": "markdown",
   "metadata": {},
   "source": [
    "### Exercice 6\n",
    "\n",
    "À partir de deux variables `prenom` et `nom`, afficher les initiales (par exemple LM pour Léa Martin)."
   ]
  },
  {
   "cell_type": "code",
   "execution_count": null,
   "metadata": {},
   "outputs": [],
   "source": []
  },
  {
   "cell_type": "markdown",
   "metadata": {},
   "source": [
    "### Exercice 7\n",
    "\n",
    "L'identifiant d'accès au réseau du lycée est construit de la manière suivante : initiale du prénom puis les 8 premiers caractères du nom.\n",
    "\n",
    "Exemple : Alexandre Lecouturier → alecoutur\n",
    "\n",
    "A partir des deux variables `prenom` et `nom`, construire l'identifiant."
   ]
  },
  {
   "cell_type": "code",
   "execution_count": null,
   "metadata": {},
   "outputs": [],
   "source": []
  },
  {
   "cell_type": "markdown",
   "metadata": {},
   "source": [
    "### Exercice 8\n",
    "\n",
    "Écrire un programme qui donne la pointure du pied demandé à l'utilisateur et affiche la taille du pied sachant qu'en France, la pointure correspond à 3/2 de la longueur du pied exprimée en centimètres et à laquelle on a au préalable ajouté un centimètre. (Vous pouvez vérifier votre résultat via ce [site](https://2-grande-taille.com/conversion-pointures)"
   ]
  },
  {
   "cell_type": "code",
   "execution_count": null,
   "metadata": {},
   "outputs": [],
   "source": []
  },
  {
   "cell_type": "markdown",
   "metadata": {},
   "source": [
    "### Exercice 9\n",
    "\n",
    "![Triangle rectangle, Source : Wikipedia](https://upload.wikimedia.org/wikipedia/commons/8/85/Triangle_aire.png)\n",
    "\n",
    "Écrire un programme qui demande 2 entiers sous la forme \"a, h\" où a et h sont des nombres à 1 seule chiffre représentant respectivement la base et la hauteur d'une triangle rectangle. Afficher l'aire du triangle."
   ]
  },
  {
   "cell_type": "code",
   "execution_count": null,
   "metadata": {},
   "outputs": [],
   "source": []
  },
  {
   "cell_type": "markdown",
   "metadata": {},
   "source": [
    "### Exercice 10\n",
    "\n",
    "![Triangle quelconque, Source : Wikipedia](https://upload.wikimedia.org/wikipedia/commons/thumb/8/8e/Triangle_with_notations.svg/320px-Triangle_with_notations.svg.png)\n",
    "\n",
    "Écrire un programme qui demande 3 entiers sous la forme \"a, b, c\" où a, b et c sont des nombres à 1 seule chiffre et calculer l'aire du triangle quelconque formés par ces 3 longueurs.\n",
    "\n",
    "__N.B : Le calcul de l'aire d'un triangle quelconque s'effectue par l'application de la formule du Héron.__"
   ]
  },
  {
   "cell_type": "code",
   "execution_count": null,
   "metadata": {},
   "outputs": [],
   "source": []
  }
 ],
 "metadata": {
  "kernelspec": {
   "display_name": "Python 3",
   "language": "python",
   "name": "python3"
  },
  "language_info": {
   "codemirror_mode": {
    "name": "ipython",
    "version": 3
   },
   "file_extension": ".py",
   "mimetype": "text/x-python",
   "name": "python",
   "nbconvert_exporter": "python",
   "pygments_lexer": "ipython3",
   "version": "3.9.7"
  }
 },
 "nbformat": 4,
 "nbformat_minor": 2
}
